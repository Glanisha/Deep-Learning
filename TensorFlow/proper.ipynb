{
 "cells": [
  {
   "cell_type": "code",
   "execution_count": 2,
   "id": "a903f538",
   "metadata": {},
   "outputs": [],
   "source": [
    "import tensorflow as tf\n",
    "from tensorflow.keras.models import Sequential\n",
    "from tensorflow.keras.layers import Dense\n",
    "from sklearn.datasets import fetch_california_housing\n",
    "from sklearn.model_selection import train_test_split\n",
    "from sklearn.preprocessing import StandardScaler\n",
    "import matplotlib.pyplot as plt"
   ]
  },
  {
   "cell_type": "code",
   "execution_count": null,
   "id": "c866ed69",
   "metadata": {},
   "outputs": [
    {
     "name": "stdout",
     "output_type": "stream",
     "text": [
      "[[   3.2596       33.            5.0176565  ...    3.6918138\n",
      "    32.71       -117.03      ]\n",
      " [   3.8125       49.            4.47354497 ...    1.73809524\n",
      "    33.77       -118.16      ]\n",
      " [   4.1563        4.            5.64583333 ...    2.72321429\n",
      "    34.66       -120.48      ]\n",
      " ...\n",
      " [   2.9344       36.            3.98671727 ...    3.33206831\n",
      "    34.03       -118.38      ]\n",
      " [   5.7192       15.            6.39534884 ...    3.17889088\n",
      "    37.58       -121.96      ]\n",
      " [   2.5755       52.            3.40257649 ...    2.10869565\n",
      "    37.77       -122.42      ]]\n"
     ]
    }
   ],
   "source": [
    "housing = fetch_california_housing()\n",
    "x, y = housing.data, housing.target\n",
    "x_train, x_test, y_train, y_test = train_test_split(x, y, test_size=0.2, random_state=42)\n"
   ]
  }
 ],
 "metadata": {
  "kernelspec": {
   "display_name": "denv",
   "language": "python",
   "name": "python3"
  },
  "language_info": {
   "codemirror_mode": {
    "name": "ipython",
    "version": 3
   },
   "file_extension": ".py",
   "mimetype": "text/x-python",
   "name": "python",
   "nbconvert_exporter": "python",
   "pygments_lexer": "ipython3",
   "version": "3.11.4"
  }
 },
 "nbformat": 4,
 "nbformat_minor": 5
}
